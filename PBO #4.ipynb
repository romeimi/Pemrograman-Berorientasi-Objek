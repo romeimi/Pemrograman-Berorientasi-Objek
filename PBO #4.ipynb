{
 "cells": [
  {
   "cell_type": "code",
   "execution_count": null,
   "metadata": {
    "collapsed": true
   },
   "outputs": [],
   "source": [
    "#TUGAS PRAKTIKUM 2\n",
    "\n",
    "class orang:\n",
    "    def __init__(self,name,ttl,hobi):\n",
    "        self.nama = name\n",
    "        self.ttl = ttl\n",
    "        self.hobi = hobi\n",
    "    \n",
    "    def perkenalkan(self):\n",
    "        print(\"Hello, Saya \",self.nama,\"\\nSaya lahir pada \",self.ttl)\n",
    "        print(\"Hobi Saya yaitu\",self.hobi)\n",
    "    \n",
    "    def umur(self,thnow,th):\n",
    "        self.thnow = thnow\n",
    "        self.th = th\n",
    "        umur = self.thnow - self.th\n",
    "        print(\"Umur Saya sekarang yaitu\",umur)\n",
    "       \n",
    "class mahasiswa(orang):\n",
    "    def __init__(self):\n",
    "        self.jur = input(\"Jurusan :\")\n",
    "        self.jen = input(\"Jenjang Pendidikan :\")\n",
    "        self.lulus = input(\"Tahun lulus :\")\n",
    "        orang.__init__(self,nama,ttl,hobi)\n",
    "    \n",
    "    def display(self):\n",
    "        print(\"============Data Mahasiswa============\")\n",
    "        orang.perkenalkan(self)\n",
    "        print(\"Jurusan :\",self.jur)\n",
    "        print(\"Jenjang Pendidikan :\",self.jen)\n",
    "        print(\"Tahun lulus :\",self.lulus)\n",
    "\n",
    "''''''      \n",
    "q = input(\"NAMA :\")\n",
    "r = input(\"Tempat tanggal lahir :\")\n",
    "s = input(\"Hobby :\")\n",
    "a = orang(q,r,s)\n",
    "t = int(input(\"Tahun Sekarang :\"))\n",
    "u = int(input(\"Tahun Lahirmu :\"))\n",
    "print()\n",
    "a.perkenalkan()\n",
    "a.umur(t,u)\n",
    "b = mahasiswa()\n",
    "b.display()\n",
    "\n"
   ]
  },
  {
   "cell_type": "markdown",
   "metadata": {},
   "source": [
    "POLYMORPHISM\n",
    "\n",
    "POLYMORPHISM with a Function\n",
    "method di masing2 class memiliki nama yang sama namun isinya berbeda."
   ]
  },
  {
   "cell_type": "code",
   "execution_count": null,
   "metadata": {
    "collapsed": true
   },
   "outputs": [],
   "source": [
    "#contohnya:\n",
    "\n",
    "class shark():\n",
    "    def swim(self):\n",
    "        print(\"The shark is swimming\")\n",
    "    def swim_backwards(self):\n",
    "        print(\"The shark cannot swim backwards, but can sink backwards\")\n",
    "    def skeleton(self):\n",
    "        print(\"The shark's skeleton is made of cartillago\")\n",
    "        \n",
    "class clownfish():\n",
    "    def swim(self):\n",
    "        print(\"The clownfish is swimming\")\n",
    "    def swim_backwards(self):\n",
    "        print(\"The clownfish canswim backwards\")\n",
    "    def skeleton(self):\n",
    "        print(\"The clownfish skeleton is made of bone\")\n",
    "        \n",
    "def in_the_pacific(fish):\n",
    "    fish.swim()\n",
    "    fish.swim_backwards()\n",
    "    fish.skeleton()\n",
    "        \n",
    "sammy = shark()\n",
    "\n",
    "casey = clownfish()\n",
    "\n",
    "in_the_pacific(sammy)\n",
    "print()\n",
    "in_the_pacific(casey)"
   ]
  },
  {
   "cell_type": "code",
   "execution_count": 1,
   "metadata": {},
   "outputs": [
    {
     "name": "stdout",
     "output_type": "stream",
     "text": [
      "The shark is swimming\n",
      "The shark cannot swim backwards, but can sink backwards\n",
      "The shark's skeleton is made of cartillago\n",
      "The clownfish is swimming\n",
      "The clownfish canswim backwards\n",
      "The clownfish skeleton is made of bone\n"
     ]
    }
   ],
   "source": [
    "class shark():\n",
    "    def swim(self):\n",
    "        print(\"The shark is swimming\")\n",
    "    def swim_backwards(self):\n",
    "        print(\"The shark cannot swim backwards, but can sink backwards\")\n",
    "    def skeleton(self):\n",
    "        print(\"The shark's skeleton is made of cartillago\")\n",
    "        \n",
    "class clownfish():\n",
    "    def swim(self):\n",
    "        print(\"The clownfish is swimming\")\n",
    "    def swim_backwards(self):\n",
    "        print(\"The clownfish canswim backwards\")\n",
    "    def skeleton(self):\n",
    "        print(\"The clownfish skeleton is made of bone\")\n",
    "        \n",
    "sammy = shark()\n",
    "casey = clownfish()\n",
    "\n",
    "for fish in (sammy,casey):\n",
    "    fish.swim()\n",
    "    fish.swim_backwards()\n",
    "    fish.skeleton()\n",
    "    \n"
   ]
  },
  {
   "cell_type": "code",
   "execution_count": null,
   "metadata": {
    "collapsed": true
   },
   "outputs": [],
   "source": [
    "class bear():\n",
    "    def sound(self):\n",
    "        print(\"Roooaaarrr\")\n",
    "\n",
    "class dog():\n",
    "    def sound(self):\n",
    "        print(\"Whooooff\")\n",
    "        \n",
    "def makesound(animal):\n",
    "    animal.sound()\n",
    "\n",
    "bearObj = bear()\n",
    "dogObj = dog()\n",
    "makesound(bearObj)\n",
    "makesound(dogObj)"
   ]
  },
  {
   "cell_type": "code",
   "execution_count": 10,
   "metadata": {},
   "outputs": [
    {
     "name": "stdout",
     "output_type": "stream",
     "text": [
      "Nama : OCA\n",
      "Jenis pegawai (manajer/programer) :programer\n",
      "Masukkan Bonus : 200\n",
      "Gaji :1000000\n",
      "Gaji Total :  1000200\n"
     ]
    }
   ],
   "source": [
    "#tugas di kelas\n",
    "\n",
    "class pegawai:\n",
    "    def __init__(self,nama):\n",
    "        self.name = nama\n",
    "    def gaji(self):\n",
    "        raise NotImplementedError(\"Subclass must implemented abstrack method\")\n",
    "\n",
    "class manajer(pegawai):\n",
    "    def __init__(self,nama,tunjangan):\n",
    "        self.tun = tunjangan\n",
    "        pegawai.__init__(self,nama)\n",
    "    def Gaji(self):\n",
    "        self.gaji = int(input(\"Gaji :\"))\n",
    "        print(\"Gaji Total : \",(self.gaji+self.tun))\n",
    "        \n",
    "class programer(pegawai):\n",
    "    def __init__(self,nama,bonus):\n",
    "        self.bonus = bonus\n",
    "        pegawai.__init__(self,nama)\n",
    "    def Gaji(self):\n",
    "        self.gaji = int(input(\"Gaji :\"))\n",
    "        print(\"Gaji Total : \",(self.gaji+self.bonus))\n",
    "\n",
    "a = input(\"Nama : \")\n",
    "b = input(\"Jenis pegawai (manajer/programer) :\")\n",
    "if b == \"manajer\":\n",
    "    c = int(input(\"Masukkan Tunjangan : \"))\n",
    "    peg = manajer(a,c)\n",
    "    peg.Gaji()\n",
    "else:\n",
    "    c = int(input(\"Masukkan Bonus : \"))\n",
    "    peg = programer(a,c)\n",
    "    peg.Gaji()\n"
   ]
  }
 ],
 "metadata": {
  "kernelspec": {
   "display_name": "Python 3",
   "language": "python",
   "name": "python3"
  },
  "language_info": {
   "codemirror_mode": {
    "name": "ipython",
    "version": 3
   },
   "file_extension": ".py",
   "mimetype": "text/x-python",
   "name": "python",
   "nbconvert_exporter": "python",
   "pygments_lexer": "ipython3",
   "version": "3.6.5"
  }
 },
 "nbformat": 4,
 "nbformat_minor": 2
}
