{
 "cells": [
  {
   "cell_type": "markdown",
   "metadata": {
    "collapsed": true
   },
   "source": [
    "CLASSVSOBJECT\n",
    "WE CAN CREATE THINGS\n",
    "WE : CLASS\n",
    "THING : OBJECT\n",
    "jika ingin membuat kelas maka bagaimana saya bisa membuat objek dari kelas itu yg bisa dilakukan oleh object yaitu method membaca, menuliskan, atribut dari suatu object, set : menulis, get: membaca\n",
    "\n",
    "properti terdiri dari : atribut, variabel\n",
    "class : tempatnya\n",
    "object adalah instansi dari class\n",
    "constructor menggunakan method bawaan python yang bernama init\n"
   ]
  },
  {
   "cell_type": "code",
   "execution_count": 6,
   "metadata": {},
   "outputs": [
    {
     "name": "stdout",
     "output_type": "stream",
     "text": [
      "4\n",
      "Luas 16\n",
      "Volume 64\n",
      "Luas Permukaan 96\n"
     ]
    }
   ],
   "source": [
    "class Kubus:\n",
    "    def __init__(self,s):\n",
    "        self.sisi = s\n",
    "    \n",
    "    def tampilkansisi(self):\n",
    "        print(self.sisi)\n",
    "    \n",
    "    def luas(self):\n",
    "        print(\"Luas\",self.sisi**2)\n",
    "        \n",
    "    def volume(self):\n",
    "        print(\"Volume\",self.sisi** 3)\n",
    "        \n",
    "    def Luaspermukaan(self):\n",
    "        print(\"Luas Permukaan\", (self.sisi**2)*6)\n",
    "    \n",
    "    \n",
    "Kubus1 = Kubus(4)\n",
    "Kubus1.tampilkansisi()\n",
    "Kubus1.luas()\n",
    "Kubus1.volume()\n",
    "Kubus1.Luaspermukaan()\n"
   ]
  },
  {
   "cell_type": "code",
   "execution_count": 3,
   "metadata": {},
   "outputs": [
    {
     "name": "stdout",
     "output_type": "stream",
     "text": [
      "Adi , Admin dan 150000\n"
     ]
    }
   ],
   "source": [
    "class Pegawai:\n",
    "    def __init__(self,n,j,g):\n",
    "        self.nama = n\n",
    "        self.jabatan = j\n",
    "        self.gaji = g\n",
    "        \n",
    "    def tampilkan(self):\n",
    "        print(self.nama,\",\",self.jabatan,\"dan\",self.gaji*30)\n",
    "        \n",
    "p1 = Pegawai(\"Adi\",\"Admin\",5000)\n",
    "p1.tampilkan()"
   ]
  },
  {
   "cell_type": "code",
   "execution_count": 10,
   "metadata": {},
   "outputs": [
    {
     "name": "stdout",
     "output_type": "stream",
     "text": [
      "001 \n",
      " oca \n",
      " 3.5\n",
      "Cumlaude\n"
     ]
    }
   ],
   "source": [
    "class Mahasiswa:\n",
    "    def __init__(self,npm,nama,ip):\n",
    "        self.nim = npm\n",
    "        self.name = nama\n",
    "        self.ipk = ip\n",
    "    \n",
    "    def tampilkan(self):\n",
    "        print(self.nim,\"\\n\",self.name, \"\\n\",self.ipk)\n",
    "    \n",
    "    def predikat(self):\n",
    "        if self.ipk >= 3.5 :\n",
    "            print(\"Cumlaude\")\n",
    "        elif self.ipk > 3 and self.ipk < 3.5 :\n",
    "            print(\"Sangat Memuaskan\")\n",
    "        elif self.ipk > 2.5 and self.ipk <= 3 :\n",
    "            print(\"Memuaskan\")\n",
    "        else:\n",
    "            print(\"Cukup\")\n",
    "            \n",
    "mhs = Mahasiswa(\"001\",\"oca\",3.5)\n",
    "mhs.tampilkan()\n",
    "mhs.predikat()"
   ]
  },
  {
   "cell_type": "code",
   "execution_count": 11,
   "metadata": {},
   "outputs": [
    {
     "name": "stdout",
     "output_type": "stream",
     "text": [
      "001 \n",
      " OCA \n",
      " 12345678\n"
     ]
    }
   ],
   "source": [
    "class nasabah:\n",
    "    def __init__(self,n,nama,rek):\n",
    "        self.nomer = n\n",
    "        self.name = nama\n",
    "        self.norek = rek\n",
    "    \n",
    "    def tampilkan(self):\n",
    "        print(self.nomer,\"\\n\",self.name,\"\\n\",self.norek)\n",
    "        \n",
    "nas = nasabah(\"001\",\"OCA\",\"12345678\")\n",
    "nas.tampilkan()"
   ]
  },
  {
   "cell_type": "code",
   "execution_count": 24,
   "metadata": {},
   "outputs": [
    {
     "name": "stdout",
     "output_type": "stream",
     "text": [
      "001 \n",
      " OCA \n",
      " 12345678\n",
      "\n",
      "Saldo sekarang : 500000\n",
      "No Rekening:  001 \n",
      "Saldo : 500000\n"
     ]
    }
   ],
   "source": [
    "class nasabah:\n",
    "    def __init__(self,n,nama,rek):\n",
    "        self.nomer = n\n",
    "        self.name = nama\n",
    "        self.norek = rek\n",
    "    \n",
    "    def tampilkan(self):\n",
    "        print(self.nomer,\"\\n\",self.name,\"\\n\",self.norek)\n",
    "        \n",
    "nas = nasabah(\"001\",\"OCA\",\"12345678\")\n",
    "nas.tampilkan()\n",
    "\n",
    "class rekening:\n",
    "    def __init__(self,saldo,rek):\n",
    "        self.sal = saldo\n",
    "        self.norek = rek\n",
    "        \n",
    "    def ambilUang(self,ambil):\n",
    "        self.sal -= ambil\n",
    "        \n",
    "    def setorUang(self,setor):\n",
    "        self.sal += setor\n",
    "    \n",
    "    def cekSaldo(self):\n",
    "        print(\"Saldo sekarang :\",self.sal)\n",
    "        \n",
    "    def tampilkan(self):\n",
    "        print(\"No Rekening: \",self.norek,\"\\nSaldo :\",self.sal)\n",
    "        \n",
    "        \n",
    "a = rekening(300000,\"001\")\n",
    "a.ambilUang(100000)\n",
    "print()\n",
    "a.setorUang(300000)\n",
    "a.cekSaldo()\n",
    "a.tampilkan()"
   ]
  }
 ],
 "metadata": {
  "kernelspec": {
   "display_name": "Python 3",
   "language": "python",
   "name": "python3"
  },
  "language_info": {
   "codemirror_mode": {
    "name": "ipython",
    "version": 3
   },
   "file_extension": ".py",
   "mimetype": "text/x-python",
   "name": "python",
   "nbconvert_exporter": "python",
   "pygments_lexer": "ipython3",
   "version": "3.6.5"
  },
  "widgets": {
   "application/vnd.jupyter.widget-state+json": {
    "state": {},
    "version_major": 1,
    "version_minor": 0
   }
  }
 },
 "nbformat": 4,
 "nbformat_minor": 2
}
