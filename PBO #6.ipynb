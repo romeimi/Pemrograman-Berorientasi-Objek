{
 "cells": [
  {
   "cell_type": "markdown",
   "metadata": {},
   "source": [
    "enkapsulasi(pembungkusan/pengkapsulan) : informasi yang disembunyikan (method dan property)\n",
    "\n",
    "method dan property bersifat privat\n",
    "\n",
    "isi dari kapsul : privat, public, method, property\n",
    "\n",
    "privat : karena tidak bisa diakses di luar kelas\n",
    "public : karna bisa diakses diluar kelas"
   ]
  },
  {
   "cell_type": "code",
   "execution_count": 2,
   "metadata": {},
   "outputs": [
    {
     "name": "stdout",
     "output_type": "stream",
     "text": [
      "Updating Software\n",
      "Driving\n",
      "Updating Software\n"
     ]
    }
   ],
   "source": [
    "class Car:\n",
    "    def __init__(self):\n",
    "        self.__updateSoftware()\n",
    "    def drive(self):\n",
    "        print(\"Driving\")\n",
    "    def __updateSoftware(self):\n",
    "        print(\"Updating Software\")\n",
    "\n",
    "redcar=Car()\n",
    "redcar.drive()\n",
    "redcar._Car__updateSoftware()"
   ]
  },
  {
   "cell_type": "code",
   "execution_count": null,
   "metadata": {},
   "outputs": [],
   "source": [
    "#tugas\n",
    "class categori:\n",
    "    def __init__(self):\n",
    "        self.__kode()\n",
    "    def nomer(self):\n",
    "        print(\"Nomer Kode\")\n",
    "    def __kode(self):\n",
    "        print(\"ini sudah kode\")\n",
    "\n",
    "k = categori()\n",
    "k.nomer()\n",
    "k._categori__kode()"
   ]
  },
  {
   "cell_type": "code",
   "execution_count": null,
   "metadata": {},
   "outputs": [],
   "source": [
    "class lingkaran:\n",
    "    def __init__(self):\n",
    "        self.__jari = 5 #privat atribut\n",
    "    def display(self):\n",
    "        print(\"LINGKARAN\")\n",
    "        print(\"Jari-jari lingkaran = \",self.__jari)\n",
    "    def __luas(self): #privat method\n",
    "        if self.__jari % 7 == 0:\n",
    "            luas = 22/7*(self.__jari**2)\n",
    "            print(\"Luas Lingkaran = \",luas)\n",
    "        else:\n",
    "            luas = 3.14*(self.__jari**2)\n",
    "            print(\"Luas Lingkaran = \",luas)\n",
    "    def keliling(self,jari1): #public method dg privat atribut\n",
    "        self.__jari = jari1\n",
    "        if jari1 % 7 == 0:\n",
    "            kel = 2*22/7*jari1\n",
    "            print(\"Keliling Lingkaran = \",kel)\n",
    "        else:\n",
    "            kel = 2*3.14*jari1\n",
    "            print(\"Keliling Lingkaran = \",kel)\n",
    "\n",
    "ling = lingkaran()\n",
    "ling.display()\n",
    "ling.keliling(6)\n",
    "ling._lingkaran__luas()"
   ]
  }
 ],
 "metadata": {
  "kernelspec": {
   "display_name": "Python 3",
   "language": "python",
   "name": "python3"
  },
  "language_info": {
   "codemirror_mode": {
    "name": "ipython",
    "version": 3
   },
   "file_extension": ".py",
   "mimetype": "text/x-python",
   "name": "python",
   "nbconvert_exporter": "python",
   "pygments_lexer": "ipython3",
   "version": "3.6.5"
  }
 },
 "nbformat": 4,
 "nbformat_minor": 2
}
