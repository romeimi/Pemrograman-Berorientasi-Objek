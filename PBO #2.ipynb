{
 "cells": [
  {
   "cell_type": "markdown",
   "metadata": {},
   "source": [
    "INHERITANCE\n",
    "\n",
    "Inharitance : pewarisan atribut dan method dari satu class kedalam class yang lain, class yang mewariskan disebut parent class dan class yang mewarisi method itu dinamakan sub class atau anak dari parent class.\n",
    "Class yang mendapatkan pewarisan(sub class/anak dari parent class), bisa menggunakan metode dan variabel/atribut yang terdapat dalam parent class.\n",
    "\n",
    "Jenis-jenis inharitance:\n",
    "1.simple inharitance : jika class A adalah class induk dan class B adalah sub class, maka class B yang sebagai anak class dapat mengakses method dan variabel/atribut yang terdapat pada class A.\n",
    "\n",
    "2.Multilavel inharitance :\n",
    "class A --> class induk,\n",
    "class B --> sub class A,\n",
    "class C --> sub class A,\n",
    "Namun class C mengambil dari class B yang terlebih dahulu menjadi sub class A\n",
    "\n",
    "3.Hearachical inharitance:\n",
    "class A --> class induk,\n",
    "class B --> sub class dari A,\n",
    "class C --> sub class dari A,\n",
    "Jadi kedua class yaitu B dan C sama-sama dapat mengakses method dan variable dari class A."
   ]
  },
  {
   "cell_type": "code",
   "execution_count": 1,
   "metadata": {},
   "outputs": [
    {
     "name": "stdout",
     "output_type": "stream",
     "text": [
      "Name=Diana\n",
      "Name=Diana\n",
      "Name=diana\n",
      "Name=putri\n",
      "Programing Python\n"
     ]
    }
   ],
   "source": [
    "class user:\n",
    "    name=\"\"\n",
    "    def __init__(self,name):\n",
    "        self.name=name\n",
    "    def printName(self):\n",
    "        print (\"Name=\"+self.name)\n",
    "class Programmer(user):#inheritance super\n",
    "    def __init__(self,name,lastname):#kurang parameter):\n",
    "        self.lastname=lastname\n",
    "        user.__init__(self,name)\n",
    "        #masih ada yang harus di inisialisasikan dari class user\n",
    "    def printLastname(self):\n",
    "        print (\"Name=\"+self.lastname)\n",
    "    def doPython(self):\n",
    "        print(\"Programing Python\")\n",
    "class Programmer1(user):\n",
    "    pass #mengambil semua yang ada di class user, contoh default\n",
    "\n",
    "brian=user(\"Diana\")\n",
    "brian.printName()\n",
    "\n",
    "diana1=Programmer1(\"Diana\")\n",
    "diana1.printName()\n",
    "\n",
    "diana=Programmer(\"diana\",\"putri\")\n",
    "diana.printName()          \n",
    "diana.printLastname()\n",
    "diana.doPython()"
   ]
  },
  {
   "cell_type": "code",
   "execution_count": 2,
   "metadata": {},
   "outputs": [
    {
     "name": "stdout",
     "output_type": "stream",
     "text": [
      "terry fish\n",
      "bone\n",
      "False\n",
      "The fish is swimming\n",
      "The fish can swim backwards.\n",
      "terry fish\n",
      "True\n",
      "False\n",
      "casey fish\n",
      "the clounfish is coexisting with sea anemone\n"
     ]
    }
   ],
   "source": [
    "class fish:\n",
    "    def __init__(self,first_name,last_name=\"fish\",\n",
    "                skeleton=\"bone\", eyelids=False):#default nya yang ada di dalam petik jika user tidak memasukkan inputan\n",
    "        self.first_name=first_name\n",
    "        self.last_name=last_name\n",
    "        self.skeleton=skeleton\n",
    "        self.eyelids=eyelids\n",
    "    def swim(self):\n",
    "        print(\"The fish is swimming\")\n",
    "    def swim_backwards(self):\n",
    "        print (\"The fish can swim backwards.\")\n",
    "class trout(fish):\n",
    "    pass\n",
    "class clounfish(fish):\n",
    "    def live_with_anemone(self):\n",
    "        print(\"the clounfish is coexisting with sea anemone\")\n",
    "\n",
    "terry=trout(\"terry\")\n",
    "print (terry.first_name+\" \"+terry.last_name )\n",
    "print (terry.skeleton)\n",
    "print (terry.eyelids)\n",
    "terry.swim()\n",
    "terry.swim_backwards()\n",
    "\n",
    "terry1=trout(\"terry\",\"smallfish\",True)\n",
    "print (terry1.first_name+\" \"+terry.last_name )\n",
    "print (terry1.skeleton)\n",
    "print (terry1.eyelids) \n",
    "\n",
    "casey=clounfish(\"casey\")\n",
    "print (casey.first_name+\" \"+casey.last_name)\n",
    "casey.live_with_anemone()      \n"
   ]
  }
 ],
 "metadata": {
  "kernelspec": {
   "display_name": "Python 3",
   "language": "python",
   "name": "python3"
  },
  "language_info": {
   "codemirror_mode": {
    "name": "ipython",
    "version": 3
   },
   "file_extension": ".py",
   "mimetype": "text/x-python",
   "name": "python",
   "nbconvert_exporter": "python",
   "pygments_lexer": "ipython3",
   "version": "3.6.5"
  }
 },
 "nbformat": 4,
 "nbformat_minor": 2
}
