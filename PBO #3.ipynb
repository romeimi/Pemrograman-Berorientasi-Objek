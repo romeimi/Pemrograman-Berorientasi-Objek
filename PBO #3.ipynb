{
 "cells": [
  {
   "cell_type": "markdown",
   "metadata": {
    "collapsed": true
   },
   "source": [
    "inheritence:pewarisan dari class ke subclass, yang diwariskan atribut dan method\n",
    "default: property, property, and method\n",
    "\n",
    "overriding: property/method dan method. fungsi yang sudah ada di modifikasi/MENGGANTI nilai property/method agar sesuai yang kita inginkan\n",
    "override property nya harus sama hanya property di class anak dimodifikasi, isi method boleh diganti\n",
    "\n",
    "SUPER : menambahkan property di class anak.\n",
    "class super : inisialisasi di class anak yg sesuai.\n",
    "\n",
    "multiple inheritence: ketika class bisa mewarisi atribut dan method lebih dari satu parent"
   ]
  },
  {
   "cell_type": "code",
   "execution_count": 2,
   "metadata": {},
   "outputs": [
    {
     "name": "stdout",
     "output_type": "stream",
     "text": [
      "The shark cannot swim backward, but can sink backward\n"
     ]
    }
   ],
   "source": [
    "class fish:\n",
    "    def __init__(self,first_name,last_name=\"fish\",\n",
    "                skeleton=\"bone\", eyelids=False):#default nya yang ada di dalam petik juka user tidak memasukkan inputan\n",
    "        self.first_name=first_name\n",
    "        self.last_name=last_name\n",
    "        self.skeleton=skeleton\n",
    "        self.eyelids=eyelids\n",
    "    def swim(self):\n",
    "        print(\"The fish is swimming\")\n",
    "    def swim_backwards(self):\n",
    "        print (\"The fish can swim backwards.\")\n",
    "        \n",
    "class shark(fish):\n",
    "    def __init__(self,first_name,last_name=\"Shark\",skeleton=\"cartillago\",eyelids=False):\n",
    "        #defaultnya yg ada di dalam petik jika user tidak memasukkan inputan\n",
    "        self.first_name = first_name\n",
    "        self.last_name = last_name\n",
    "        self.skeleton = skeleton\n",
    "        self.eyelids = eyelids\n",
    "    def swim_backwards(self):\n",
    "        print(\"The shark cannot swim backward, but can sink backward\")\n",
    "\n",
    "        \n",
    "hiu = shark(\"hiu besar\")\n",
    "hiu.swim_backwards()"
   ]
  },
  {
   "cell_type": "code",
   "execution_count": null,
   "metadata": {},
   "outputs": [],
   "source": [
    "#contoh override\n",
    "class persegi:\n",
    "    def __init__(self,sisi,bentuk=\"persegi\"):\n",
    "        self.sisi = sisi\n",
    "        self.bentuk = bentuk\n",
    "    def tampilan(self):\n",
    "        print(\"Sisi=\",self.sisi, \"Bentuk=\",self.bentuk)\n",
    "        \n",
    "class persegipanjang(persegi):\n",
    "    def __init__(self,sisi,bentuk=\"persegi panjang\"): #override itu mengubah \n",
    "        self.sisi = sisi\n",
    "        self.bentuk = bentuk\n",
    "    def deskripsi(self):\n",
    "        print(\"mempunyai 2 sisi yang sama\")\n",
    "   \n",
    "class bujursangkar(persegi):\n",
    "    def __init__(self,sisi,bentuk=\"bujur sangkar\"): #override itu mengubah \n",
    "        self.sisi = sisi\n",
    "        self.bentuk = bentuk\n",
    "    def deskripsi(self):\n",
    "        print(\"semua sisi yang sama\")\n",
    "     \n",
    "      \n",
    "        \n",
    "a = persegi(4)\n",
    "a.tampilan()\n",
    "print()\n",
    "b = persegipanjang(4)\n",
    "b.tampilan()\n",
    "b.deskripsi()\n",
    "print()\n",
    "c = bujursangkar(4)\n",
    "c.tampilan()\n",
    "c.deskripsi()"
   ]
  },
  {
   "cell_type": "code",
   "execution_count": null,
   "metadata": {},
   "outputs": [],
   "source": [
    "class user:\n",
    "    name=\"\"\n",
    "    def __init__(self,name):\n",
    "        self.name=name\n",
    "    def printName(self):\n",
    "        print (\"Name=\",self.name)\n",
    "class Programmer(user):#inheritance super\n",
    "    def __init__(self,name,lastname):#kurang parameter):\n",
    "        self.lastname=lastname\n",
    "        super().__init__(name) #kalo super() harus pake 1 aja\n",
    "        #masih ada yang harus di inisialisasikan dari class user\n",
    "    def printLastname(self):\n",
    "        print (\"Name=\",self.lastname)\n",
    "    def doPython(self):\n",
    "        print(\"Programing Python\")\n",
    "class Programmer1(user):\n",
    "    pass #mengambil semua yang ada di class user\n",
    "\n",
    "brian=user(\"Diana\")\n",
    "brian.printName()\n",
    "\n",
    "diana1=Programmer1(\"Diana\")\n",
    "diana1.printName()\n",
    "\n",
    "diana=Programmer(\"diana\",\"putri\")\n",
    "diana.printName()          \n",
    "diana.printLastname()\n",
    "diana.doPython()\n"
   ]
  },
  {
   "cell_type": "code",
   "execution_count": null,
   "metadata": {},
   "outputs": [],
   "source": [
    "#ini CONTOH MULTIPLE\n",
    "class person:\n",
    "    def __init__(self):\n",
    "        self.name = input(\"Nama = \")\n",
    "    \n",
    "    def display(self):\n",
    "        print(\"\\n\\nNama: \", self.name)\n",
    "        \n",
    "class marks:\n",
    "    def __init__(self):\n",
    "        self.npm = input(\"Npm = \")\n",
    "        print(\"Nilai\")\n",
    "        self.math = int(input(\"Math : \"))\n",
    "        self.biology = int(input(\"Biologi :\"))\n",
    "    \n",
    "    def display(self):\n",
    "        print(\"Npm :\",self.npm)\n",
    "        print(\"Nilai: \",self.math+self.biology)\n",
    "        \n",
    "class student(person, marks):\n",
    "    def __init__(self):\n",
    "        person.__init__(self)\n",
    "        marks.__init__(self)\n",
    "        \n",
    "    def result(self):\n",
    "        person.display(self)\n",
    "        marks.display(self)\n",
    "        \n",
    "stu1 = student()\n",
    "stu2 = student()\n",
    "stu1.result()\n",
    "stu2.result()\n"
   ]
  }
 ],
 "metadata": {
  "kernelspec": {
   "display_name": "Python 3",
   "language": "python",
   "name": "python3"
  },
  "language_info": {
   "codemirror_mode": {
    "name": "ipython",
    "version": 3
   },
   "file_extension": ".py",
   "mimetype": "text/x-python",
   "name": "python",
   "nbconvert_exporter": "python",
   "pygments_lexer": "ipython3",
   "version": "3.6.5"
  }
 },
 "nbformat": 4,
 "nbformat_minor": 2
}
