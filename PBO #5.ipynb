{
 "cells": [
  {
   "cell_type": "markdown",
   "metadata": {},
   "source": [
    "overloading (method yang sama): sebuah method dengan multiple cara, dengan beda parameter, beda dari function yang kita definisikan\n",
    "\n",
    "operator overloading : operator yang banyak bentuk, contoh operator + bisa digunakan menjumlahkan integer dan menggabungkan string"
   ]
  },
  {
   "cell_type": "code",
   "execution_count": 7,
   "metadata": {},
   "outputs": [
    {
     "name": "stdout",
     "output_type": "stream",
     "text": [
      "11\n",
      "HaloOca\n"
     ]
    }
   ],
   "source": [
    "\n",
    "def add(datatype, *args):\n",
    "    if datatype == 'int':\n",
    "        answer = 0\n",
    "        \n",
    "    if datatype == 'str':\n",
    "        answer = ''\n",
    "        \n",
    "    for i in args:\n",
    "        answer = answer + i\n",
    "    \n",
    "    print(answer)\n",
    "\n",
    "#integer\n",
    "add('int',5,6)\n",
    "#string\n",
    "add('str','Halo','Oca')"
   ]
  },
  {
   "cell_type": "markdown",
   "metadata": {},
   "source": [
    "operator (-) tidak dapat mengoperasikan string\n",
    "contoh pada program dibawah ini akan error."
   ]
  },
  {
   "cell_type": "code",
   "execution_count": 8,
   "metadata": {},
   "outputs": [
    {
     "name": "stdout",
     "output_type": "stream",
     "text": [
      "-11\n"
     ]
    },
    {
     "ename": "TypeError",
     "evalue": "unsupported operand type(s) for -: 'str' and 'str'",
     "output_type": "error",
     "traceback": [
      "\u001b[1;31m---------------------------------------------------------------------------\u001b[0m",
      "\u001b[1;31mTypeError\u001b[0m                                 Traceback (most recent call last)",
      "\u001b[1;32m<ipython-input-8-b0e949262f21>\u001b[0m in \u001b[0;36m<module>\u001b[1;34m()\u001b[0m\n\u001b[0;32m     14\u001b[0m \u001b[0mkurangi\u001b[0m\u001b[1;33m(\u001b[0m\u001b[1;34m'int'\u001b[0m\u001b[1;33m,\u001b[0m\u001b[1;36m5\u001b[0m\u001b[1;33m,\u001b[0m\u001b[1;36m6\u001b[0m\u001b[1;33m)\u001b[0m\u001b[1;33m\u001b[0m\u001b[0m\n\u001b[0;32m     15\u001b[0m \u001b[1;31m#string\u001b[0m\u001b[1;33m\u001b[0m\u001b[1;33m\u001b[0m\u001b[0m\n\u001b[1;32m---> 16\u001b[1;33m \u001b[0mkurangi\u001b[0m\u001b[1;33m(\u001b[0m\u001b[1;34m'str'\u001b[0m\u001b[1;33m,\u001b[0m\u001b[1;34m'Halo'\u001b[0m\u001b[1;33m,\u001b[0m\u001b[1;34m'Oca'\u001b[0m\u001b[1;33m)\u001b[0m\u001b[1;33m\u001b[0m\u001b[0m\n\u001b[0m",
      "\u001b[1;32m<ipython-input-8-b0e949262f21>\u001b[0m in \u001b[0;36mkurangi\u001b[1;34m(datatype, *args)\u001b[0m\n\u001b[0;32m      7\u001b[0m \u001b[1;33m\u001b[0m\u001b[0m\n\u001b[0;32m      8\u001b[0m     \u001b[1;32mfor\u001b[0m \u001b[0mi\u001b[0m \u001b[1;32min\u001b[0m \u001b[0margs\u001b[0m\u001b[1;33m:\u001b[0m\u001b[1;33m\u001b[0m\u001b[0m\n\u001b[1;32m----> 9\u001b[1;33m         \u001b[0manswer\u001b[0m \u001b[1;33m=\u001b[0m \u001b[0manswer\u001b[0m \u001b[1;33m-\u001b[0m \u001b[0mi\u001b[0m\u001b[1;33m\u001b[0m\u001b[0m\n\u001b[0m\u001b[0;32m     10\u001b[0m \u001b[1;33m\u001b[0m\u001b[0m\n\u001b[0;32m     11\u001b[0m     \u001b[0mprint\u001b[0m\u001b[1;33m(\u001b[0m\u001b[0manswer\u001b[0m\u001b[1;33m)\u001b[0m\u001b[1;33m\u001b[0m\u001b[0m\n",
      "\u001b[1;31mTypeError\u001b[0m: unsupported operand type(s) for -: 'str' and 'str'"
     ]
    }
   ],
   "source": [
    "def kurangi(datatype, *args):\n",
    "    if datatype == 'int':\n",
    "        answer = 0\n",
    "        \n",
    "    if datatype == 'str':\n",
    "        answer = ''\n",
    "        \n",
    "    for i in args:\n",
    "        answer = answer - i\n",
    "    \n",
    "    print(answer)\n",
    "\n",
    "#integer\n",
    "kurangi('int',5,6)\n",
    "#string\n",
    "kurangi('str','Halo','Oca')"
   ]
  },
  {
   "cell_type": "code",
   "execution_count": 9,
   "metadata": {},
   "outputs": [
    {
     "name": "stdout",
     "output_type": "stream",
     "text": [
      "Hello\n",
      "HelloOca\n"
     ]
    }
   ],
   "source": [
    "class Human:\n",
    "    def sayHello(self,name=None):\n",
    "        if name is not None:\n",
    "            print(\"Hello\"+name)\n",
    "        else:\n",
    "            print('Hello')\n",
    "obj = Human()\n",
    "obj.sayHello()\n",
    "obj.sayHello(\"Oca\")"
   ]
  },
  {
   "cell_type": "code",
   "execution_count": 10,
   "metadata": {},
   "outputs": [
    {
     "name": "stdout",
     "output_type": "stream",
     "text": [
      "5/2\n",
      "5/3\n",
      "25/6\n"
     ]
    }
   ],
   "source": [
    "class fraction:\n",
    "    def __init__(self,top,bottom):\n",
    "        self.num = top\n",
    "        self.den = bottom\n",
    "    def show(self):\n",
    "        print(self.num,\"/\",self.den)\n",
    "    def __str__(self):\n",
    "        return str(self.num)+\"/\"+str(self.den)\n",
    "    def __add__(self,otherfraction):\n",
    "        newnum = self.num*otherfraction.den+self.den*otherfraction.num\n",
    "        newden = self.den * otherfraction.den\n",
    "        return fraction(newnum,newden)\n",
    "    \n",
    "f1 = fraction(5,2)\n",
    "f2 = fraction(5,3)\n",
    "print(f1)\n",
    "print(f2)\n",
    "print(f1+f2)"
   ]
  },
  {
   "cell_type": "code",
   "execution_count": 11,
   "metadata": {},
   "outputs": [
    {
     "name": "stdout",
     "output_type": "stream",
     "text": [
      "5/2\n",
      "2/3\n",
      "HASIL TAMBAH 19/6\n",
      "HASIL KALI 10/6\n"
     ]
    }
   ],
   "source": [
    "class fraction:\n",
    "    def __init__(self,top,bottom):\n",
    "        self.num = top\n",
    "        self.den = bottom\n",
    "    def show(self):\n",
    "        print(self.num,\"/\",self.den)\n",
    "    def __str__(self):\n",
    "        return str(self.num)+\"/\"+str(self.den)\n",
    "    def __add__(self,otherfraction):\n",
    "        newnum = self.num*otherfraction.den+self.den*otherfraction.num\n",
    "        newden = self.den * otherfraction.den\n",
    "        return fraction(newnum,newden)\n",
    "    def __mul__(self,otherfraction):\n",
    "        newnum = self.num*otherfraction.num\n",
    "        newden = self.den * otherfraction.den\n",
    "        return fraction(newnum,newden)\n",
    "    \n",
    "f1 = fraction(5,2)\n",
    "f2 = fraction(2,3)\n",
    "print(f1)\n",
    "print(f2)\n",
    "print(\"HASIL TAMBAH\",f1+f2)\n",
    "print(\"HASIL KALI\",f1*f2)"
   ]
  },
  {
   "cell_type": "code",
   "execution_count": 12,
   "metadata": {},
   "outputs": [
    {
     "name": "stdout",
     "output_type": "stream",
     "text": [
      "point object is at: {9,1}\n",
      "point object is at: {9,1}\n"
     ]
    }
   ],
   "source": [
    "class point:\n",
    "    def __init__(self,x=0,y=0):\n",
    "        self.x = x\n",
    "        self.y = y\n",
    "    def __str__(self):\n",
    "        return \"point object is at: {\"+str(self.x)+\",\"+str(self.y)+\"}\"\n",
    "    def __add__(self,other):\n",
    "        x = self.x - other.x\n",
    "        y = self.y - other.y\n",
    "        return point(x,y)\n",
    "\n",
    "p1 = point(10,3)\n",
    "p2 = point(1,2)\n",
    "print(p1+p2)\n",
    "print(p1.__add__(p2))"
   ]
  },
  {
   "cell_type": "code",
   "execution_count": 13,
   "metadata": {},
   "outputs": [
    {
     "name": "stdout",
     "output_type": "stream",
     "text": [
      "Hasil (4,3)\n"
     ]
    }
   ],
   "source": [
    "class jarak:\n",
    "    def __init__(self,x=0,y=0):\n",
    "        self.x = x\n",
    "        self.y = y\n",
    "    def __str__(self):\n",
    "        return \"Hasil (\"+str(self.x)+\",\"+str(self.y)+\")\"\n",
    "    def __sub__(self,other):\n",
    "        x = self.x - other.y\n",
    "        y = self.y - other.y\n",
    "        return jarak(x,y)\n",
    "j = jarak(5,4)\n",
    "g = jarak(1,1)\n",
    "print(j-g)"
   ]
  }
 ],
 "metadata": {
  "kernelspec": {
   "display_name": "Python 3",
   "language": "python",
   "name": "python3"
  },
  "language_info": {
   "codemirror_mode": {
    "name": "ipython",
    "version": 3
   },
   "file_extension": ".py",
   "mimetype": "text/x-python",
   "name": "python",
   "nbconvert_exporter": "python",
   "pygments_lexer": "ipython3",
   "version": "3.6.5"
  }
 },
 "nbformat": 4,
 "nbformat_minor": 2
}
